{
 "cells": [
  {
   "cell_type": "code",
   "execution_count": 4,
   "id": "f9263b89",
   "metadata": {},
   "outputs": [
    {
     "name": "stderr",
     "output_type": "stream",
     "text": [
      "[nltk_data] Downloading package wordnet to\n",
      "[nltk_data]     C:\\Users\\user\\AppData\\Roaming\\nltk_data...\n",
      "[nltk_data]   Package wordnet is already up-to-date!\n",
      "[nltk_data] Downloading package omw-1.4 to\n",
      "[nltk_data]     C:\\Users\\user\\AppData\\Roaming\\nltk_data...\n",
      "[nltk_data]   Package omw-1.4 is already up-to-date!\n"
     ]
    }
   ],
   "source": [
    "import pandas as pd\n",
    "from pyvi import ViTokenizer\n",
    "from nltk.translate.meteor_score import meteor_score\n",
    "from rouge_score import rouge_scorer\n",
    "import nltk\n",
    "\n",
    "nltk.download('wordnet')\n",
    "nltk.download('omw-1.4')\n",
    "\n",
    "# Khởi tạo scorer cho ROUGE\n",
    "scorer = rouge_scorer.RougeScorer(['rouge1', 'rouge2', 'rougeL'], use_stemmer=False)\n",
    "\n",
    "# Hàm tách từ tiếng Việt\n",
    "def tokenize_vi(text):\n",
    "    return ViTokenizer.tokenize(text)\n",
    "\n",
    "def compute_meteor_vi(ref, pred):\n",
    "    ref_tok = tokenize_vi(ref).split()\n",
    "    pred_tok = tokenize_vi(pred).split()\n",
    "    return meteor_score([ref_tok], pred_tok)\n",
    "# Tính ROUGE cho tiếng Việt\n",
    "def compute_rouge_vi(ref, pred):\n",
    "    ref_tok = tokenize_vi(ref)\n",
    "    pred_tok = tokenize_vi(pred)\n",
    "    scores = scorer.score(ref_tok, pred_tok)\n",
    "    return {\n",
    "        'rouge1': scores['rouge1'].fmeasure,\n",
    "        'rouge2': scores['rouge2'].fmeasure,\n",
    "        'rougeL': scores['rougeL'].fmeasure,\n",
    "    }\n",
    "\n",
    "# Đọc dữ liệu\n",
    "# df = pd.read_csv('your_file.csv')\n",
    "\n",
    "# Giả sử bạn đã có df với cột: 'reference' và 'response'\n",
    "\n"
   ]
  },
  {
   "cell_type": "code",
   "execution_count": 50,
   "id": "56d1bd93",
   "metadata": {},
   "outputs": [],
   "source": [
    "df = pd.read_csv(\"C:/Users/user/OneDrive/Desktop/LLMs for Edu/RAFT_Data/openai_eval/res_after_eval/llama_finetuned_CoT.csv\")"
   ]
  },
  {
   "cell_type": "code",
   "execution_count": 51,
   "id": "6acad06f",
   "metadata": {},
   "outputs": [],
   "source": [
    "df = df.dropna(subset=['reference', 'response'])\n",
    "df['reference'] = df['reference'].astype(str)\n",
    "df['response'] = df['response'].astype(str)\n"
   ]
  },
  {
   "cell_type": "code",
   "execution_count": 52,
   "id": "129e3c4c",
   "metadata": {},
   "outputs": [],
   "source": [
    "df['meteor'] = df.apply(lambda row: compute_meteor_vi(row['reference'], row['response']), axis=1)\n",
    "rouge_scores = df.apply(lambda row: compute_rouge_vi(row['reference'], row['response']), axis=1)\n",
    "rouge_df = pd.DataFrame(rouge_scores.tolist())\n",
    "\n",
    "# Gộp kết quả\n",
    "df = pd.concat([df, rouge_df], axis=1)\n",
    "\n"
   ]
  },
  {
   "cell_type": "code",
   "execution_count": 53,
   "id": "f2f31b8c",
   "metadata": {},
   "outputs": [
    {
     "data": {
      "text/plain": [
       "rouge1    0.668188\n",
       "rouge2    0.523086\n",
       "rougeL    0.549897\n",
       "dtype: float64"
      ]
     },
     "execution_count": 53,
     "metadata": {},
     "output_type": "execute_result"
    }
   ],
   "source": [
    "rouge_df.mean()"
   ]
  },
  {
   "cell_type": "code",
   "execution_count": 54,
   "id": "45f3b590",
   "metadata": {},
   "outputs": [
    {
     "data": {
      "text/plain": [
       "meteor    0.529846\n",
       "dtype: float64"
      ]
     },
     "execution_count": 54,
     "metadata": {},
     "output_type": "execute_result"
    }
   ],
   "source": [
    "mean_values = df[[\"meteor\"]].mean()\n",
    "mean_values"
   ]
  },
  {
   "cell_type": "code",
   "execution_count": null,
   "id": "a2b59bc9",
   "metadata": {},
   "outputs": [],
   "source": []
  }
 ],
 "metadata": {
  "kernelspec": {
   "display_name": "base",
   "language": "python",
   "name": "python3"
  },
  "language_info": {
   "codemirror_mode": {
    "name": "ipython",
    "version": 3
   },
   "file_extension": ".py",
   "mimetype": "text/x-python",
   "name": "python",
   "nbconvert_exporter": "python",
   "pygments_lexer": "ipython3",
   "version": "3.12.7"
  }
 },
 "nbformat": 4,
 "nbformat_minor": 5
}
